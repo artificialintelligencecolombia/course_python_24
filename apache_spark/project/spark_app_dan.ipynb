{
 "cells": [
  {
   "cell_type": "code",
   "execution_count": 1,
   "id": "a13c771c",
   "metadata": {},
   "outputs": [],
   "source": [
    "#Importing the packages\n",
    "from pyspark.sql import SparkSession # sstarting point for writing spark apps.\n",
    "from pyspark.sql.types import StructType, StructField, IntegerType, StringType # Define the structure of df.\n",
    "import pyspark.sql.functions as func"
   ]
  },
  {
   "cell_type": "code",
   "execution_count": 2,
   "id": "0b1dc584",
   "metadata": {},
   "outputs": [],
   "source": [
    "#Creating the SparkSession\n",
    "spark = SparkSession.builder.appName(\"FirstApp\").getOrCreate()"
   ]
  },
  {
   "cell_type": "code",
   "execution_count": 3,
   "id": "9fd551ec",
   "metadata": {},
   "outputs": [],
   "source": [
    "#Defining schema for your DataFrame\n",
    "myschema = StructType([\\\n",
    "                       StructField(\"userID\", IntegerType(), True),\n",
    "                       StructField(\"name\", StringType(), True),\n",
    "                       StructField(\"age\",IntegerType(), True),\n",
    "                       StructField(\"friends\",IntegerType(), True),\n",
    "                        ])"
   ]
  },
  {
   "cell_type": "code",
   "execution_count": 4,
   "id": "912ecbee",
   "metadata": {},
   "outputs": [],
   "source": [
    "#Creating DataFrame on a CSV file\n",
    "people = spark.read.format(\"csv\")\\\n",
    "    .schema(myschema)\\\n",
    "    .option(\"path\",\"fakefriends.csv\")\\\n",
    "    .load() # loads the data from the specified CSV file into a DataFrame (people)."
   ]
  },
  {
   "cell_type": "code",
   "execution_count": 10,
   "id": "5b0aadba",
   "metadata": {},
   "outputs": [
    {
     "name": "stdout",
     "output_type": "stream",
     "text": [
      "+------+--------+---+-------+--------------------+\n",
      "|userID|    name|age|friends|    insert_timestamp|\n",
      "+------+--------+---+-------+--------------------+\n",
      "|     1|Jean-Luc| 26|      2|2024-08-25 13:19:...|\n",
      "|     9|    Hugh| 27|    181|2024-08-25 13:19:...|\n",
      "|    16|  Weyoun| 22|    323|2024-08-25 13:19:...|\n",
      "|    21|   Miles| 19|    268|2024-08-25 13:19:...|\n",
      "|    24|  Julian| 25|      1|2024-08-25 13:19:...|\n",
      "|    25|     Ben| 21|    445|2024-08-25 13:19:...|\n",
      "|    26|  Julian| 22|    100|2024-08-25 13:19:...|\n",
      "|    32|     Nog| 26|    281|2024-08-25 13:19:...|\n",
      "|    35| Beverly| 27|    305|2024-08-25 13:19:...|\n",
      "|    46|    Morn| 25|     96|2024-08-25 13:19:...|\n",
      "+------+--------+---+-------+--------------------+\n",
      "only showing top 10 rows\n",
      "\n",
      "None\n"
     ]
    }
   ],
   "source": [
    "#Performing all thetransformations\n",
    "output = people.select(people.userID,people.name\\\n",
    "                       ,people.age,people.friends)\\\n",
    "         .where(people.age < 30).withColumn('insert_timestamp', func.current_timestamp())\\\n",
    "         .orderBy(people.userID)\n",
    "\n",
    "print(output.show(10))"
   ]
  },
  {
   "cell_type": "code",
   "execution_count": 11,
   "id": "63b6e2d5",
   "metadata": {},
   "outputs": [
    {
     "data": {
      "text/plain": [
       "112"
      ]
     },
     "execution_count": 11,
     "metadata": {},
     "output_type": "execute_result"
    }
   ],
   "source": [
    "#taking the count of o/p DataFrame\n",
    "output.count()"
   ]
  },
  {
   "cell_type": "code",
   "execution_count": 7,
   "id": "c8756adf",
   "metadata": {},
   "outputs": [],
   "source": [
    "#Creating a Temp View\n",
    "output.createOrReplaceTempView(\"peoples\") # If a view with the same name already exists, it will be replaced."
   ]
  },
  {
   "cell_type": "code",
   "execution_count": 8,
   "id": "e8e32b91",
   "metadata": {},
   "outputs": [
    {
     "name": "stdout",
     "output_type": "stream",
     "text": [
      "+--------+---+-------+--------------------+\n",
      "|    name|age|friends|           insert_ts|\n",
      "+--------+---+-------+--------------------+\n",
      "|Jean-Luc| 26|      2|2024-08-25 13:14:...|\n",
      "|    Hugh| 27|    181|2024-08-25 13:14:...|\n",
      "|  Weyoun| 22|    323|2024-08-25 13:14:...|\n",
      "|   Miles| 19|    268|2024-08-25 13:14:...|\n",
      "|  Julian| 25|      1|2024-08-25 13:14:...|\n",
      "|     Ben| 21|    445|2024-08-25 13:14:...|\n",
      "|  Julian| 22|    100|2024-08-25 13:14:...|\n",
      "|     Nog| 26|    281|2024-08-25 13:14:...|\n",
      "| Beverly| 27|    305|2024-08-25 13:14:...|\n",
      "|    Morn| 25|     96|2024-08-25 13:14:...|\n",
      "|   Brunt| 24|     49|2024-08-25 13:14:...|\n",
      "|     Nog| 20|      1|2024-08-25 13:14:...|\n",
      "| Beverly| 19|    269|2024-08-25 13:14:...|\n",
      "|   Brunt| 19|      5|2024-08-25 13:14:...|\n",
      "|  Geordi| 20|    100|2024-08-25 13:14:...|\n",
      "|  Geordi| 21|    477|2024-08-25 13:14:...|\n",
      "|  Kasidy| 22|    179|2024-08-25 13:14:...|\n",
      "|   Brunt| 20|    384|2024-08-25 13:14:...|\n",
      "|     Ben| 28|    311|2024-08-25 13:14:...|\n",
      "|    Worf| 24|    492|2024-08-25 13:14:...|\n",
      "+--------+---+-------+--------------------+\n",
      "only showing top 20 rows\n",
      "\n"
     ]
    }
   ],
   "source": [
    "#Running a simple Spark SQL query\n",
    "spark.sql(\"select name,age,friends,insert_ts from peoples\").show()"
   ]
  }
 ],
 "metadata": {
  "kernelspec": {
   "display_name": "Python 3 (ipykernel)",
   "language": "python",
   "name": "python3"
  },
  "language_info": {
   "codemirror_mode": {
    "name": "ipython",
    "version": 3
   },
   "file_extension": ".py",
   "mimetype": "text/x-python",
   "name": "python",
   "nbconvert_exporter": "python",
   "pygments_lexer": "ipython3",
   "version": "3.12.5"
  }
 },
 "nbformat": 4,
 "nbformat_minor": 5
}
