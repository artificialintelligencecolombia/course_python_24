{
 "cells": [
  {
   "cell_type": "code",
   "execution_count": 1,
   "metadata": {},
   "outputs": [],
   "source": [
    "# import libraries\n",
    "import pyspark\n",
    "from pyspark.sql import SparkSession"
   ]
  },
  {
   "cell_type": "code",
   "execution_count": 2,
   "metadata": {},
   "outputs": [],
   "source": [
    "# Create a SparkSession for local execution\n",
    "spark = SparkSession.builder.master(\"local\").appName(\"first_spark_app\").getOrCreate()"
   ]
  },
  {
   "cell_type": "code",
   "execution_count": 5,
   "metadata": {},
   "outputs": [],
   "source": [
    "# define the data and columns\n",
    "data = [\n",
    "    (\"Alice\", \"Smith\", \"1985-01-15\", 55000.0, \"USD\", \"Software Engineer\", \"Bachelor's Degree\", 5),\n",
    "    (\"Bob\", \"Johnson\", \"1992-03-20\", 42000.0, \"EUR\", \"Data Analyst\", \"Master's Degree\", 3),\n",
    "    (\"Charlie\", \"Brown\", \"1978-07-08\", 68000.0, \"GBP\", \"Financial Analyst\", \"PhD\", 8),\n",
    "    (\"David\", \"Lee\", \"1995-11-12\", 38000.0, \"JPY\", \"Marketing Specialist\", \"Bachelor's Degree\", 2),\n",
    "    (\"Emily\", \"Davis\", \"1980-05-25\", 72000.0, \"CAD\", \"Product Manager\", \"Master's Degree\", 7),\n",
    "    (\"Frank\", \"Miller\", \"1975-09-10\", 80000.0, \"AUD\", \"Sales Manager\", \"Bachelor's Degree\", 12),\n",
    "    (\"Grace\", \"Wilson\", \"1990-02-22\", 35000.0, \"NZD\", \"Customer Service\", \"High School Diploma\", 1),\n",
    "    (\"Henry\", \"Thomas\", \"1988-06-05\", 48000.0, \"CHF\", \"Project Manager\", \"Master's Degree\", 6),\n",
    "    (\"Ivy\", \"Taylor\", \"1993-10-18\", 32000.0, \"SEK\", \"HR Specialist\", \"Bachelor's Degree\", 3),\n",
    "    (\"Jack\", \"Harris\", \"1972-12-30\", 75000.0, \"NOK\", \"Operations Manager\", \"MBA\", 15),\n",
    "    (\"Karen\", \"Carter\", \"1998-04-07\", 30000.0, \"KRW\", \"Junior Developer\", \"Bachelor's Degree\", 1),\n",
    "    (\"Laura\", \"Turner\", \"1982-08-19\", 50000.0, \"TRY\", \"Accountant\", \"Bachelor's Degree\", 4),\n",
    "    (\"Mark\", \"Walker\", \"1996-01-25\", 33000.0, \"BRL\", \"Designer\", \"Associate's Degree\", 2),\n",
    "    (\"Nancy\", \"Baker\", \"1977-03-08\", 65000.0, \"INR\", \"Lawyer\", \"Law Degree\", 10),\n",
    "    (\"Olivia\", \"Hill\", \"1991-07-12\", 37000.0, \"RUB\", \"Data Scientist\", \"Master's Degree\", 4),\n",
    "    (\"Paul\", \"Rivera\", \"1984-05-20\", 70000.0, \"ZAR\", \"Engineer\", \"Bachelor's Degree\", 8),\n",
    "    (\"Quinn\", \"Scott\", \"1999-09-03\", 28000.0, \"MXN\", \"Intern\", \"High School Diploma\", 0),\n",
    "    (\"Rachel\", \"Clark\", \"1987-11-28\", 58000.0, \"CZK\", \"Marketing Manager\", \"MBA\", 7),\n",
    "    (\"Sarah\", \"Morgan\", \"1994-02-16\", 31000.0, \"PLN\", \"Sales Associate\", \"Bachelor's Degree\", 2),\n",
    "    (\"Thomas\", \"Wright\", \"1973-06-01\", 85000.0, \"THB\", \"CEO\", \"PhD\", 25)\n",
    "]\n",
    "\n",
    "columns = [\n",
    "    \"firstname\",\n",
    "    \"lastname\",\n",
    "    \"dateofbirth\",\n",
    "    \"salary\",\n",
    "    \"currency\",\n",
    "    \"job_title\",\n",
    "    \"education\",\n",
    "    \"experience\"\n",
    "]"
   ]
  },
  {
   "cell_type": "code",
   "execution_count": 6,
   "metadata": {},
   "outputs": [],
   "source": [
    "# Create a DataFrame from the data and columns\n",
    "df = spark.createDataFrame(data, schema=columns)"
   ]
  },
  {
   "cell_type": "code",
   "execution_count": 7,
   "metadata": {},
   "outputs": [
    {
     "name": "stdout",
     "output_type": "stream",
     "text": [
      "root\n",
      " |-- firstname: string (nullable = true)\n",
      " |-- lastname: string (nullable = true)\n",
      " |-- dateofbirth: string (nullable = true)\n",
      " |-- salary: double (nullable = true)\n",
      " |-- currency: string (nullable = true)\n",
      " |-- job_title: string (nullable = true)\n",
      " |-- education: string (nullable = true)\n",
      " |-- experience: long (nullable = true)\n",
      "\n"
     ]
    }
   ],
   "source": [
    "# show the dataframe\n",
    "df.printSchema()"
   ]
  },
  {
   "cell_type": "code",
   "execution_count": null,
   "metadata": {},
   "outputs": [],
   "source": []
  }
 ],
 "metadata": {
  "kernelspec": {
   "display_name": "Python 3",
   "language": "python",
   "name": "python3"
  },
  "language_info": {
   "codemirror_mode": {
    "name": "ipython",
    "version": 3
   },
   "file_extension": ".py",
   "mimetype": "text/x-python",
   "name": "python",
   "nbconvert_exporter": "python",
   "pygments_lexer": "ipython3",
   "version": "3.12.5"
  }
 },
 "nbformat": 4,
 "nbformat_minor": 2
}
