{
 "cells": [
  {
   "cell_type": "code",
   "execution_count": 31,
   "metadata": {},
   "outputs": [],
   "source": [
    "#Importing the packages\n",
    "from pyspark.sql import SparkSession\n",
    "from pyspark.sql.functions import desc  # Import the 'desc' function"
   ]
  },
  {
   "cell_type": "code",
   "execution_count": 32,
   "metadata": {},
   "outputs": [],
   "source": [
    "#Creating the SparkSession\n",
    "spark = SparkSession.\\\n",
    "    builder.\\\n",
    "        appName(\"sparksql\").\\\n",
    "        getOrCreate()"
   ]
  },
  {
   "cell_type": "code",
   "execution_count": 33,
   "metadata": {},
   "outputs": [],
   "source": [
    "#Creating DataFrame on a CSV file\n",
    "data = spark.read.format(\"csv\")\\\n",
    "    .option(\"inferSchema\",'true')\\\n",
    "    .option('header', 'true')\\\n",
    "    .option(\"path\",\"operations_management.csv\")\\\n",
    "    .load() \n",
    "\n",
    "# loads the data from the specified CSV file into a DataFrame (people).\n",
    "# 'inferSchema' will determine whether a column contains integers, strings, doubles, etc., based on the data it reads.\n",
    "# 'header' .> true tells the first row of csv contains headers.\n",
    "# Notes:\n",
    "# For creating a df, there're several methods.\n",
    "# For creating a DataFrame, we have to pass the schema."
   ]
  },
  {
   "cell_type": "code",
   "execution_count": 34,
   "metadata": {},
   "outputs": [
    {
     "name": "stdout",
     "output_type": "stream",
     "text": [
      "root\n",
      " |-- description: string (nullable = true)\n",
      " |-- industry: string (nullable = true)\n",
      " |-- level: integer (nullable = true)\n",
      " |-- size: string (nullable = true)\n",
      " |-- line_code: string (nullable = true)\n",
      " |-- value: integer (nullable = true)\n",
      "\n"
     ]
    }
   ],
   "source": [
    "# Print the schema of the df\n",
    "data.printSchema()"
   ]
  },
  {
   "cell_type": "code",
   "execution_count": 35,
   "metadata": {},
   "outputs": [],
   "source": [
    "# Transformation of the DataFrame to select columns and filter and sort in descending order\n",
    "data2 = data.select(\"industry\", \"value\") \\\n",
    "            .filter((data[\"value\"] > 5000) & (data[\"industry\"] != \"total\")) \\\n",
    "            .orderBy(desc(\"value\"))\n",
    "\n",
    "# We're not changing the dataframe, we create a new dataframe to perform the transformations."
   ]
  },
  {
   "cell_type": "code",
   "execution_count": 36,
   "metadata": {},
   "outputs": [
    {
     "name": "stdout",
     "output_type": "stream",
     "text": [
      "root\n",
      " |-- industry: string (nullable = true)\n",
      " |-- value: integer (nullable = true)\n",
      "\n",
      "+--------------------+-----+\n",
      "|            industry|value|\n",
      "+--------------------+-----+\n",
      "|        Construction| 6030|\n",
      "|        Construction| 5904|\n",
      "|        Construction| 5229|\n",
      "|Accommodation & f...| 5058|\n",
      "+--------------------+-----+\n",
      "\n"
     ]
    }
   ],
   "source": [
    "# Print the schema and display the resulting df\n",
    "data2.printSchema()\n",
    "data2.show()"
   ]
  },
  {
   "cell_type": "code",
   "execution_count": 37,
   "metadata": {},
   "outputs": [],
   "source": [
    "# Create a temporary view named 'dataSQL'\n",
    "data2.createOrReplaceTempView(\"dataSQL\")\n",
    "\n",
    "# This is for run SQL queries in the view.\n",
    "\n",
    "# Notes:\n",
    "# Its a temporary view. Views are essentially virtual tables that are defined by a SELECT statement. \n",
    "# Allows users familiar with SQL to work in the df. And perform complex data analysis & manipulation"
   ]
  },
  {
   "cell_type": "code",
   "execution_count": 38,
   "metadata": {},
   "outputs": [
    {
     "name": "stdout",
     "output_type": "stream",
     "text": [
      "+--------------------+-----+\n",
      "|            industry|value|\n",
      "+--------------------+-----+\n",
      "|        Construction| 6030|\n",
      "|        Construction| 5904|\n",
      "|        Construction| 5229|\n",
      "|Accommodation & f...| 5058|\n",
      "+--------------------+-----+\n",
      "\n"
     ]
    }
   ],
   "source": [
    "# Running an SQL query on a temporary view 'dataSQL' and return a Df\n",
    "spark.sql(\"\"\"SELECT * \n",
    "          FROM dataSQL \n",
    "          WHERE value > 100\n",
    "          \"\"\").show()\n"
   ]
  },
  {
   "cell_type": "code",
   "execution_count": null,
   "metadata": {},
   "outputs": [],
   "source": []
  }
 ],
 "metadata": {
  "kernelspec": {
   "display_name": "spark-env",
   "language": "python",
   "name": "python3"
  },
  "language_info": {
   "codemirror_mode": {
    "name": "ipython",
    "version": 3
   },
   "file_extension": ".py",
   "mimetype": "text/x-python",
   "name": "python",
   "nbconvert_exporter": "python",
   "pygments_lexer": "ipython3",
   "version": "3.12.5"
  }
 },
 "nbformat": 4,
 "nbformat_minor": 2
}
